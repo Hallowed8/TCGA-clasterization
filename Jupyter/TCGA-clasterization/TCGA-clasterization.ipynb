{
 "cells": [
  {
   "cell_type": "code",
   "execution_count": 3,
   "metadata": {},
   "outputs": [],
   "source": [
    "#!/usr/bin/env python\n",
    "# coding: utf-8\n",
    "# In[1]:\n",
    "import numpy as np\n",
    "import pandas as pd # data processing, CSV file I/O (e.g. pd.read_csv)\n",
    "import matplotlib.pyplot as plt\n",
    "import seaborn as sns\n",
    "from sklearn.preprocessing import StandardScaler\n",
    "from sklearn.cluster import KMeans\n",
    "from sklearn.decomposition import PCA\n",
    "from sklearn.metrics.pairwise import cosine_similarity\n",
    "import sklearn.datasets as datasets\n",
    "from matplotlib.colors import rgb2hex\n",
    "from matplotlib.cm import get_cmap"
   ]
  },
  {
   "cell_type": "code",
   "execution_count": 5,
   "metadata": {},
   "outputs": [],
   "source": [
    "#Function for plotting\n",
    "from mpl_toolkits.mplot3d import Axes3D\n",
    "\n",
    "def scatterPlot(x, y, points_labels, algoName, size = (4,3), x_label ='1. główna składowa',\n",
    "                y_label = '2. główna składowa', show_legend =True):\n",
    "    fig = plt.figure(figsize = size)\n",
    "    ax = fig.add_subplot(111)\n",
    "    colormap = get_cmap('tab20')\n",
    "    n = len(np.unique(points_labels))\n",
    "    if n == 1:\n",
    "        cdict = [rgb2hex((0,0,0))]\n",
    "    if n > 1:\n",
    "        cdict = [rgb2hex(colormap(col)) for col in np.arange(0, 1.01,\n",
    "                                                             1/(n-1))]\n",
    "    color_iter = 0\n",
    "    for g in np.unique(points_labels):\n",
    "        ix = np.where(points_labels == g)[0]\n",
    "        ax.scatter(x[ix], y[ix], c = cdict[color_iter], label = g, s = 5)\n",
    "        color_iter += 1\n",
    "        \n",
    "    ax.set_xlabel(x_label)\n",
    "    ax.set_ylabel(y_label)\n",
    "    ax.set_title(algoName)\n",
    "    \n",
    "    # Shrink current axis by 20%\n",
    "    box = ax.get_position()\n",
    "    ax.set_position([box.x0, box.y0, box.width * 0.8, box.height])\n",
    "    ax.set_xlabel(x_label)\n",
    "    lgnd = plt.legend(loc=\"lower left\", scatterpoints=10, fontsize=10)\n",
    "    \n",
    "    for handle in lgnd.legendHandles:\n",
    "        handle.set_sizes([6.0])\n",
    "        \n",
    "    ax.set_ylabel(y_label)\n",
    "    if show_legend:\n",
    "        ax.legend(loc='best')\n",
    "        \n",
    "    return ax"
   ]
  },
  {
   "cell_type": "code",
   "execution_count": 6,
   "metadata": {},
   "outputs": [],
   "source": [
    "def plotDendrogram(model, **kwargs):\n",
    "    # Create linkage matrix and then plot the dendrogram\n",
    "    # create the counts of samples under each node\n",
    "    counts = np.zeros(model.children_.shape[0])\n",
    "    n_samples = len(model.labels_)\n",
    "    for i, merge in enumerate(model.children_):\n",
    "        current_count = 0\n",
    "        for child_idx in merge:\n",
    "            if child_idx < n_samples:\n",
    "                current_count += 1 # leaf node\n",
    "            else:\n",
    "                current_count += counts[child_idx - n_samples]\n",
    "        counts[i] = current_count\n",
    "        \n",
    "    linkage_matrix = np.column_stack([model.children_, model.distances_,counts]).astype(float)\n",
    "    \n",
    "    # Plot the corresponding dendrogram\n",
    "    dendrogram(linkage_matrix, **kwargs)"
   ]
  },
  {
   "cell_type": "code",
   "execution_count": 7,
   "metadata": {},
   "outputs": [],
   "source": [
    "def analyzeClusters(labels, real_labels):\n",
    "    clusters, counts = np.unique(labels, return_counts = True)\n",
    "    real_lab_perc = pd.DataFrame()\n",
    "    \n",
    "    for g in np.unique(labels):\n",
    "        idx = np.where(labels == g)[0]\n",
    "        cluster_real_labels = np.asarray(real_labels)[idx]\n",
    "        cluster_labels = np.asarray(labels)[idx]\n",
    "        real_label_in, real_lab_counts = np.unique(np.asarray(real_labels)[idx], return_counts = True)\n",
    "        percent = 100*real_lab_counts/sum(real_lab_counts)\n",
    "        xx = pd.DataFrame([percent], index = [g], columns =\n",
    "        np.unique(real_label_in))\n",
    "        real_lab_perc = pd.concat([real_lab_perc, xx], axis = 1)\n",
    "\n",
    "    real_lab_perc=real_lab_perc.groupby(by=real_lab_perc.columns,axis=1).sum()\n",
    "    clusters_table = np.asarray([clusters, counts]).T\n",
    "    clusters_table = pd.DataFrame(clusters_table, columns = ['klaster','liczba obiektów'])\n",
    "    clusters_table.reset_index(drop=True, inplace=True)\n",
    "    real_lab_perc.reset_index(drop=True, inplace=True)\n",
    "    \n",
    "    df = pd.concat( [clusters_table, real_lab_perc], axis=1)\n",
    "    return df.round(1)"
   ]
  },
  {
   "cell_type": "code",
   "execution_count": 8,
   "metadata": {},
   "outputs": [],
   "source": [
    "def cutSmallest(labels, cut_num):\n",
    "    clusters, counts = np.unique(labels, return_counts = True)\n",
    "    cutoff_labels=labels\n",
    "    for cluster, count in zip(clusters, counts):\n",
    "        if count <= cut_num:\n",
    "            for idx, label in enumerate(cutoff_labels):\n",
    "                if label == cluster:\n",
    "                    cutoff_labels[idx] = -1\n",
    "    return cutoff_labels"
   ]
  },
  {
   "cell_type": "code",
   "execution_count": null,
   "metadata": {},
   "outputs": [],
   "source": [
    "from sklearn.metrics import silhouette_score\n",
    "from sklearn.metrics import davies_bouldin_score\n",
    "from sklearn.metrics import calinski_harabasz_score"
   ]
  }
 ],
 "metadata": {
  "kernelspec": {
   "display_name": "TCGA_venv",
   "language": "python",
   "name": "tcga_venv"
  },
  "language_info": {
   "codemirror_mode": {
    "name": "ipython",
    "version": 3
   },
   "file_extension": ".py",
   "mimetype": "text/x-python",
   "name": "python",
   "nbconvert_exporter": "python",
   "pygments_lexer": "ipython3",
   "version": "3.8.5"
  }
 },
 "nbformat": 4,
 "nbformat_minor": 4
}
